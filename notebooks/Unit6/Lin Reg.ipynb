{
 "cells": [
  {
   "cell_type": "code",
   "execution_count": 6,
   "metadata": {},
   "outputs": [],
   "source": [
    "import pandas as pd\n",
    "from sklearn.linear_model import LinearRegression\n",
    "import seaborn as sns\n",
    "import statsmodels.api as sm\n"
   ]
  },
  {
   "cell_type": "code",
   "execution_count": 8,
   "metadata": {},
   "outputs": [
    {
     "data": {
      "text/plain": [
       "15"
      ]
     },
     "execution_count": 8,
     "metadata": {},
     "output_type": "execute_result"
    }
   ],
   "source": [
    "df = pd.read_csv(\"Ch27_Printers.txt\", sep = \"\\t\")\n",
    "list(df)\n",
    "len(df)"
   ]
  },
  {
   "cell_type": "code",
   "execution_count": 7,
   "metadata": {},
   "outputs": [
    {
     "name": "stdout",
     "output_type": "stream",
     "text": [
      "Params \n",
      "const                3.366769\n",
      "Cost (cents/page)    0.024607\n",
      "dtype: float64\n",
      "----------------------------------------\n",
      "Standard Errors \n",
      "const                0.684688\n",
      "Cost (cents/page)    0.084560\n",
      "dtype: float64\n",
      "****************************************\n"
     ]
    }
   ],
   "source": [
    "res = sm.OLS(df[\"Speed (ppm)\"], sm.add_constant(df[\"Cost (cents/page)\"])).fit()\n",
    "print(\"Params \\n\" + str(res.params))\n",
    "print(\"-\" * 40)\n",
    "print(\"Standard Errors \\n\" + str(res.bse))\n",
    "print(\"*\" * 40)\n",
    "\n",
    "sns.plot()"
   ]
  },
  {
   "cell_type": "code",
   "execution_count": 17,
   "metadata": {},
   "outputs": [
    {
     "name": "stdout",
     "output_type": "stream",
     "text": [
      "Const: 983.0703624733478\t Coeff: [-0.92750533]\n",
      "Const: 1099.1368103183536\t Coeff: [-1.04463098]\n",
      "Const: 777.2114891434434\t Coeff: [-0.71465208]\n",
      "Const: 973.5161718361253\t Coeff: [-0.9147454]\n",
      "Const: 833.0180969060132\t Coeff: [-0.77080246]\n",
      "Const: 1442.0669374037245\t Coeff: [-1.39686318]\n",
      "Const: 979.3640753259297\t Coeff: [-0.92225978]\n",
      "Const: 1018.0431612715081\t Coeff: [-0.96383785]\n",
      "Const: 1161.9455905105726\t Coeff: [-1.10881898]\n",
      "Const: 966.7608858157356\t Coeff: [-0.91011026]\n"
     ]
    }
   ],
   "source": [
    "for i in range(10):\n",
    "    s = df.sample(10)\n",
    "    reg = LinearRegression().fit(s[\"\"].values.reshape(-1,1), s[\"Wind Speed (mph)\"])\n",
    "    print(\"Const: {0}\\t Coeff: {1}\".format(reg.intercept_, reg.coef_))"
   ]
  },
  {
   "cell_type": "code",
   "execution_count": 42,
   "metadata": {},
   "outputs": [
    {
     "name": "stdout",
     "output_type": "stream",
     "text": [
      "Params \n",
      "const            903.906467\n",
      "Pressure (mb)     -0.845129\n",
      "dtype: float64\n",
      "----------------------------------------\n",
      "Standard Errors \n",
      "const            112.967510\n",
      "Pressure (mb)      0.116813\n",
      "dtype: float64\n",
      "****************************************\n",
      "Params \n",
      "const            925.740296\n",
      "Pressure (mb)     -0.867839\n",
      "dtype: float64\n",
      "----------------------------------------\n",
      "Standard Errors \n",
      "const            128.842101\n",
      "Pressure (mb)      0.132954\n",
      "dtype: float64\n",
      "****************************************\n",
      "Params \n",
      "const            876.044862\n",
      "Pressure (mb)     -0.815398\n",
      "dtype: float64\n",
      "----------------------------------------\n",
      "Standard Errors \n",
      "const            123.984574\n",
      "Pressure (mb)      0.127788\n",
      "dtype: float64\n",
      "****************************************\n",
      "Params \n",
      "const            937.920483\n",
      "Pressure (mb)     -0.880884\n",
      "dtype: float64\n",
      "----------------------------------------\n",
      "Standard Errors \n",
      "const            88.587199\n",
      "Pressure (mb)     0.091440\n",
      "dtype: float64\n",
      "****************************************\n",
      "Params \n",
      "const            1066.917131\n",
      "Pressure (mb)      -1.012109\n",
      "dtype: float64\n",
      "----------------------------------------\n",
      "Standard Errors \n",
      "const            61.953749\n",
      "Pressure (mb)     0.064200\n",
      "dtype: float64\n",
      "****************************************\n",
      "Params \n",
      "const            916.712041\n",
      "Pressure (mb)     -0.857204\n",
      "dtype: float64\n",
      "----------------------------------------\n",
      "Standard Errors \n",
      "const            92.041195\n",
      "Pressure (mb)     0.094756\n",
      "dtype: float64\n",
      "****************************************\n",
      "Params \n",
      "const            947.845745\n",
      "Pressure (mb)     -0.890870\n",
      "dtype: float64\n",
      "----------------------------------------\n",
      "Standard Errors \n",
      "const            83.249483\n",
      "Pressure (mb)     0.086056\n",
      "dtype: float64\n",
      "****************************************\n",
      "Params \n",
      "const            1039.841384\n",
      "Pressure (mb)      -0.984833\n",
      "dtype: float64\n",
      "----------------------------------------\n",
      "Standard Errors \n",
      "const            76.772873\n",
      "Pressure (mb)     0.079423\n",
      "dtype: float64\n",
      "****************************************\n",
      "Params \n",
      "const            1036.573975\n",
      "Pressure (mb)      -0.979829\n",
      "dtype: float64\n",
      "----------------------------------------\n",
      "Standard Errors \n",
      "const            63.181090\n",
      "Pressure (mb)     0.065037\n",
      "dtype: float64\n",
      "****************************************\n",
      "Params \n",
      "const            1102.332157\n",
      "Pressure (mb)      -1.047857\n",
      "dtype: float64\n",
      "----------------------------------------\n",
      "Standard Errors \n",
      "const            52.464906\n",
      "Pressure (mb)     0.054066\n",
      "dtype: float64\n",
      "****************************************\n"
     ]
    }
   ],
   "source": [
    "import statsmodels.api as sm\n",
    "\n",
    "for i in range(10):\n",
    "    s = df.sample(30)\n",
    "    \n",
    "    res = sm.OLS(s[\"Wind Speed (mph)\"], sm.add_constant(s[\"Pressure (mb)\"])).fit()\n",
    "\n",
    "    print(\"Params \\n\" + str(res.params))\n",
    "    print(\"-\" * 40)\n",
    "    print(\"Standard Errors \\n\" + str(res.bse))\n",
    "    print(\"*\" * 40)"
   ]
  },
  {
   "cell_type": "code",
   "execution_count": null,
   "metadata": {},
   "outputs": [],
   "source": []
  }
 ],
 "metadata": {
  "kernelspec": {
   "display_name": "Python 3",
   "language": "python",
   "name": "python3"
  },
  "language_info": {
   "codemirror_mode": {
    "name": "ipython",
    "version": 3
   },
   "file_extension": ".py",
   "mimetype": "text/x-python",
   "name": "python",
   "nbconvert_exporter": "python",
   "pygments_lexer": "ipython3",
   "version": "3.7.1"
  }
 },
 "nbformat": 4,
 "nbformat_minor": 2
}
