{
 "cells": [
  {
   "cell_type": "code",
   "execution_count": 38,
   "metadata": {},
   "outputs": [],
   "source": [
    "import pandas as pd\n",
    "from scipy.stats import chi2_contingency, ttest_ind\n",
    "import seaborn as sns\n"
   ]
  },
  {
   "cell_type": "code",
   "execution_count": 3,
   "metadata": {},
   "outputs": [],
   "source": [
    "df = pd.read_excel(\"yrbsqn.xlsx\")"
   ]
  },
  {
   "cell_type": "code",
   "execution_count": 31,
   "metadata": {},
   "outputs": [
    {
     "data": {
      "text/html": [
       "<div>\n",
       "<style scoped>\n",
       "    .dataframe tbody tr th:only-of-type {\n",
       "        vertical-align: middle;\n",
       "    }\n",
       "\n",
       "    .dataframe tbody tr th {\n",
       "        vertical-align: top;\n",
       "    }\n",
       "\n",
       "    .dataframe thead th {\n",
       "        text-align: right;\n",
       "    }\n",
       "</style>\n",
       "<table border=\"1\" class=\"dataframe\">\n",
       "  <thead>\n",
       "    <tr style=\"text-align: right;\">\n",
       "      <th></th>\n",
       "      <th>Q1</th>\n",
       "      <th>Q2</th>\n",
       "      <th>Q3</th>\n",
       "      <th>Q4</th>\n",
       "      <th>Q5</th>\n",
       "      <th>Q6</th>\n",
       "      <th>Q7</th>\n",
       "      <th>QN8</th>\n",
       "      <th>QN9</th>\n",
       "      <th>QN10</th>\n",
       "      <th>...</th>\n",
       "      <th>BMIPCT</th>\n",
       "      <th>RACEETH</th>\n",
       "      <th>Q6ORIG</th>\n",
       "      <th>Q7ORIG</th>\n",
       "      <th>QNDAYEVP</th>\n",
       "      <th>QNFREVP</th>\n",
       "      <th>QNDAYSKL</th>\n",
       "      <th>QNFRSKL</th>\n",
       "      <th>QNDAYCGR</th>\n",
       "      <th>QNFRCGR</th>\n",
       "    </tr>\n",
       "  </thead>\n",
       "  <tbody>\n",
       "    <tr>\n",
       "      <th>0</th>\n",
       "      <td>5.0</td>\n",
       "      <td>2.0</td>\n",
       "      <td>3.0</td>\n",
       "      <td>2.0</td>\n",
       "      <td>E</td>\n",
       "      <td>1.90</td>\n",
       "      <td>108.86</td>\n",
       "      <td>2.0</td>\n",
       "      <td>2.0</td>\n",
       "      <td>2.0</td>\n",
       "      <td>...</td>\n",
       "      <td>97.44</td>\n",
       "      <td>5.0</td>\n",
       "      <td>603</td>\n",
       "      <td>240</td>\n",
       "      <td>2.0</td>\n",
       "      <td>2.0</td>\n",
       "      <td>2.0</td>\n",
       "      <td>2.0</td>\n",
       "      <td>2.0</td>\n",
       "      <td>2.0</td>\n",
       "    </tr>\n",
       "    <tr>\n",
       "      <th>1</th>\n",
       "      <td>7.0</td>\n",
       "      <td>2.0</td>\n",
       "      <td>3.0</td>\n",
       "      <td>1.0</td>\n",
       "      <td>NaN</td>\n",
       "      <td>1.60</td>\n",
       "      <td>58.97</td>\n",
       "      <td>2.0</td>\n",
       "      <td>2.0</td>\n",
       "      <td>2.0</td>\n",
       "      <td>...</td>\n",
       "      <td>60.88</td>\n",
       "      <td>6.0</td>\n",
       "      <td>503</td>\n",
       "      <td>130</td>\n",
       "      <td>2.0</td>\n",
       "      <td>2.0</td>\n",
       "      <td>2.0</td>\n",
       "      <td>2.0</td>\n",
       "      <td>2.0</td>\n",
       "      <td>2.0</td>\n",
       "    </tr>\n",
       "    <tr>\n",
       "      <th>2</th>\n",
       "      <td>5.0</td>\n",
       "      <td>1.0</td>\n",
       "      <td>3.0</td>\n",
       "      <td>1.0</td>\n",
       "      <td>A</td>\n",
       "      <td>1.65</td>\n",
       "      <td>64.41</td>\n",
       "      <td>2.0</td>\n",
       "      <td>2.0</td>\n",
       "      <td>2.0</td>\n",
       "      <td>...</td>\n",
       "      <td>78.50</td>\n",
       "      <td>7.0</td>\n",
       "      <td>505</td>\n",
       "      <td>142</td>\n",
       "      <td>2.0</td>\n",
       "      <td>2.0</td>\n",
       "      <td>2.0</td>\n",
       "      <td>2.0</td>\n",
       "      <td>2.0</td>\n",
       "      <td>2.0</td>\n",
       "    </tr>\n",
       "    <tr>\n",
       "      <th>3</th>\n",
       "      <td>6.0</td>\n",
       "      <td>1.0</td>\n",
       "      <td>3.0</td>\n",
       "      <td>1.0</td>\n",
       "      <td>NaN</td>\n",
       "      <td>1.60</td>\n",
       "      <td>64.86</td>\n",
       "      <td>2.0</td>\n",
       "      <td>2.0</td>\n",
       "      <td>2.0</td>\n",
       "      <td>...</td>\n",
       "      <td>84.61</td>\n",
       "      <td>6.0</td>\n",
       "      <td>503</td>\n",
       "      <td>143</td>\n",
       "      <td>2.0</td>\n",
       "      <td>2.0</td>\n",
       "      <td>2.0</td>\n",
       "      <td>2.0</td>\n",
       "      <td>2.0</td>\n",
       "      <td>2.0</td>\n",
       "    </tr>\n",
       "    <tr>\n",
       "      <th>4</th>\n",
       "      <td>7.0</td>\n",
       "      <td>2.0</td>\n",
       "      <td>3.0</td>\n",
       "      <td>2.0</td>\n",
       "      <td>E</td>\n",
       "      <td>1.75</td>\n",
       "      <td>65.77</td>\n",
       "      <td>2.0</td>\n",
       "      <td>2.0</td>\n",
       "      <td>2.0</td>\n",
       "      <td>...</td>\n",
       "      <td>40.08</td>\n",
       "      <td>5.0</td>\n",
       "      <td>509</td>\n",
       "      <td>145</td>\n",
       "      <td>2.0</td>\n",
       "      <td>2.0</td>\n",
       "      <td>2.0</td>\n",
       "      <td>2.0</td>\n",
       "      <td>2.0</td>\n",
       "      <td>2.0</td>\n",
       "    </tr>\n",
       "  </tbody>\n",
       "</table>\n",
       "<p>5 rows × 150 columns</p>\n",
       "</div>"
      ],
      "text/plain": [
       "    Q1   Q2   Q3   Q4   Q5    Q6      Q7  QN8  QN9  QN10   ...     BMIPCT  \\\n",
       "0  5.0  2.0  3.0  2.0    E  1.90  108.86  2.0  2.0   2.0   ...      97.44   \n",
       "1  7.0  2.0  3.0  1.0  NaN  1.60   58.97  2.0  2.0   2.0   ...      60.88   \n",
       "2  5.0  1.0  3.0  1.0    A  1.65   64.41  2.0  2.0   2.0   ...      78.50   \n",
       "3  6.0  1.0  3.0  1.0  NaN  1.60   64.86  2.0  2.0   2.0   ...      84.61   \n",
       "4  7.0  2.0  3.0  2.0    E  1.75   65.77  2.0  2.0   2.0   ...      40.08   \n",
       "\n",
       "   RACEETH  Q6ORIG  Q7ORIG  QNDAYEVP  QNFREVP  QNDAYSKL  QNFRSKL  QNDAYCGR  \\\n",
       "0      5.0     603     240       2.0      2.0       2.0      2.0       2.0   \n",
       "1      6.0     503     130       2.0      2.0       2.0      2.0       2.0   \n",
       "2      7.0     505     142       2.0      2.0       2.0      2.0       2.0   \n",
       "3      6.0     503     143       2.0      2.0       2.0      2.0       2.0   \n",
       "4      5.0     509     145       2.0      2.0       2.0      2.0       2.0   \n",
       "\n",
       "   QNFRCGR  \n",
       "0      2.0  \n",
       "1      2.0  \n",
       "2      2.0  \n",
       "3      2.0  \n",
       "4      2.0  \n",
       "\n",
       "[5 rows x 150 columns]"
      ]
     },
     "execution_count": 31,
     "metadata": {},
     "output_type": "execute_result"
    }
   ],
   "source": [
    "df.head()"
   ]
  },
  {
   "cell_type": "code",
   "execution_count": 33,
   "metadata": {},
   "outputs": [
    {
     "data": {
      "text/plain": [
       "(14765, 150)"
      ]
     },
     "execution_count": 33,
     "metadata": {},
     "output_type": "execute_result"
    }
   ],
   "source": [
    "df.shape"
   ]
  },
  {
   "cell_type": "markdown",
   "metadata": {},
   "source": [
    "## Question 1\n",
    "Is there a relationship between race and how much green salad one eats?\n",
    "\n",
    "RACEETH: Race of subject\n",
    "Q72: During the past 7 days, did you eat salad?\n",
    "1 is no, 2 is yes\n",
    "\n"
   ]
  },
  {
   "cell_type": "code",
   "execution_count": 5,
   "metadata": {},
   "outputs": [
    {
     "data": {
      "text/html": [
       "<div>\n",
       "<style scoped>\n",
       "    .dataframe tbody tr th:only-of-type {\n",
       "        vertical-align: middle;\n",
       "    }\n",
       "\n",
       "    .dataframe tbody tr th {\n",
       "        vertical-align: top;\n",
       "    }\n",
       "\n",
       "    .dataframe thead th {\n",
       "        text-align: right;\n",
       "    }\n",
       "</style>\n",
       "<table border=\"1\" class=\"dataframe\">\n",
       "  <thead>\n",
       "    <tr style=\"text-align: right;\">\n",
       "      <th>RACEETH</th>\n",
       "      <th>1.0</th>\n",
       "      <th>2.0</th>\n",
       "      <th>3.0</th>\n",
       "      <th>4.0</th>\n",
       "      <th>5.0</th>\n",
       "      <th>6.0</th>\n",
       "      <th>7.0</th>\n",
       "      <th>8.0</th>\n",
       "    </tr>\n",
       "    <tr>\n",
       "      <th>QN72</th>\n",
       "      <th></th>\n",
       "      <th></th>\n",
       "      <th></th>\n",
       "      <th></th>\n",
       "      <th></th>\n",
       "      <th></th>\n",
       "      <th></th>\n",
       "      <th></th>\n",
       "    </tr>\n",
       "  </thead>\n",
       "  <tbody>\n",
       "    <tr>\n",
       "      <th>1.0</th>\n",
       "      <td>53</td>\n",
       "      <td>248</td>\n",
       "      <td>1427</td>\n",
       "      <td>35</td>\n",
       "      <td>2296</td>\n",
       "      <td>641</td>\n",
       "      <td>810</td>\n",
       "      <td>337</td>\n",
       "    </tr>\n",
       "    <tr>\n",
       "      <th>2.0</th>\n",
       "      <td>78</td>\n",
       "      <td>373</td>\n",
       "      <td>1162</td>\n",
       "      <td>72</td>\n",
       "      <td>3831</td>\n",
       "      <td>795</td>\n",
       "      <td>1120</td>\n",
       "      <td>442</td>\n",
       "    </tr>\n",
       "  </tbody>\n",
       "</table>\n",
       "</div>"
      ],
      "text/plain": [
       "RACEETH  1.0  2.0   3.0  4.0   5.0  6.0   7.0  8.0\n",
       "QN72                                              \n",
       "1.0       53  248  1427   35  2296  641   810  337\n",
       "2.0       78  373  1162   72  3831  795  1120  442"
      ]
     },
     "execution_count": 5,
     "metadata": {},
     "output_type": "execute_result"
    }
   ],
   "source": [
    "q1tb = pd.crosstab(df[\"QN72\"], df[\"RACEETH\"])\n",
    "q1tb"
   ]
  },
  {
   "cell_type": "code",
   "execution_count": 6,
   "metadata": {},
   "outputs": [
    {
     "data": {
      "text/plain": [
       "<matplotlib.axes._subplots.AxesSubplot at 0x1a22380a20>"
      ]
     },
     "execution_count": 6,
     "metadata": {},
     "output_type": "execute_result"
    },
    {
     "data": {
      "image/png": "[encoded data removed]",
      "text/plain": [
       "<Figure size 432x288 with 1 Axes>"
      ]
     },
     "metadata": {
      "needs_background": "light"
     },
     "output_type": "display_data"
    }
   ],
   "source": [
    "sns.countplot(data=df, hue=\"QN72\", y=\"RACEETH\")"
   ]
  },
  {
   "cell_type": "code",
   "execution_count": 7,
   "metadata": {},
   "outputs": [
    {
     "data": {
      "text/plain": [
       "(240.95541158311005,\n",
       " 2.3276504187490516e-48,\n",
       " 7,\n",
       " array([[  55.82776968,  264.64919825, 1103.34424198,   45.59978134,\n",
       "         2611.1201895 ,  611.97463557,  822.50072886,  331.98345481],\n",
       "        [  75.17223032,  356.35080175, 1485.65575802,   61.40021866,\n",
       "         3515.8798105 ,  824.02536443, 1107.49927114,  447.01654519]]))"
      ]
     },
     "execution_count": 7,
     "metadata": {},
     "output_type": "execute_result"
    }
   ],
   "source": [
    "chi2_contingency(q1tb)"
   ]
  },
  {
   "cell_type": "markdown",
   "metadata": {},
   "source": [
    "## Answer\n",
    "\n",
    "**Null hypothesis**:  \n",
    "$H_0$: Race and Salad consumed are indepedent of each other  \n",
    "$H_A$: Race and Salad consumed are not independent of each other\n",
    "\n",
    "**Assumptions**:\n",
    "1. Data is in counted form\n",
    "2. Randomization: The data comes from a SRS sample, and the population is greater than 10 * 14765. \n",
    "3. Expected Count: Each item in the expected table is greater than 5.\n",
    "\n",
    "**Data output**:  \n",
    "${\\chi}^2$ = 240.955  \n",
    "p-value: 2.328e-48 $\\approx$ 0\n",
    "\n",
    "**Conclusion**:\n",
    "The p-value of 2.328e-48 $\\approx$ 0 means that assuming race and salad consumed are independent, there is almost no chance of getting a sample that is as extreme or more than the sampled. Since this sample is so extreme, we have enough evidence to reject the null hypothesis and conclude that race and salad consumed are not indepedent of each other.\n"
   ]
  },
  {
   "cell_type": "markdown",
   "metadata": {},
   "source": [
    "## Question 2\n",
    "Compare the means of weight between Whites (5) and Hispanics (7).\n"
   ]
  },
  {
   "cell_type": "code",
   "execution_count": 47,
   "metadata": {},
   "outputs": [
    {
     "name": "stdout",
     "output_type": "stream",
     "text": [
      "Mean: 67.17433533963792 \t Std Dev: 17.135629044969008\n"
     ]
    }
   ],
   "source": [
    "wWeight = df.loc[df[\"RACEETH\"] == 5][\"Q7\"].dropna()\n",
    "print(\"Mean: {0} \\t Std Dev: {1}\".format(wWeight.mean(), wWeight.std()))"
   ]
  },
  {
   "cell_type": "code",
   "execution_count": 48,
   "metadata": {},
   "outputs": [
    {
     "data": {
      "text/plain": [
       "<matplotlib.axes._subplots.AxesSubplot at 0x1a1fad5fd0>"
      ]
     },
     "execution_count": 48,
     "metadata": {},
     "output_type": "execute_result"
    },
    {
     "data": {
      "image/png": "[encoded data removed]",
      "text/plain": [
       "<Figure size 432x288 with 1 Axes>"
      ]
     },
     "metadata": {
      "needs_background": "light"
     },
     "output_type": "display_data"
    }
   ],
   "source": [
    "sns.distplot(wWeight)"
   ]
  },
  {
   "cell_type": "code",
   "execution_count": 49,
   "metadata": {},
   "outputs": [
    {
     "name": "stdout",
     "output_type": "stream",
     "text": [
      "Mean: 67.61362612612598 \t Std Dev: 17.414649009945645\n"
     ]
    }
   ],
   "source": [
    "hWeight= df.loc[df[\"RACEETH\"] == 6][\"Q7\"].dropna()\n",
    "print(\"Mean: {0} \\t Std Dev: {1}\".format(hWeight.mean(), hWeight.std()))"
   ]
  },
  {
   "cell_type": "code",
   "execution_count": 50,
   "metadata": {},
   "outputs": [
    {
     "data": {
      "text/plain": [
       "<matplotlib.axes._subplots.AxesSubplot at 0x1a2077b470>"
      ]
     },
     "execution_count": 50,
     "metadata": {},
     "output_type": "execute_result"
    },
    {
     "data": {
      "image/png": "[encoded data removed]",
      "text/plain": [
       "<Figure size 432x288 with 1 Axes>"
      ]
     },
     "metadata": {
      "needs_background": "light"
     },
     "output_type": "display_data"
    }
   ],
   "source": [
    "sns.distplot(hWeight)"
   ]
  },
  {
   "cell_type": "code",
   "execution_count": 40,
   "metadata": {},
   "outputs": [
    {
     "data": {
      "text/plain": [
       "Ttest_indResult(statistic=-10.19216578354955, pvalue=3.1463545997555385e-24)"
      ]
     },
     "execution_count": 40,
     "metadata": {},
     "output_type": "execute_result"
    }
   ],
   "source": [
    "ttest_ind(wBMI, hBMI)"
   ]
  },
  {
   "cell_type": "markdown",
   "metadata": {},
   "source": [
    "## Answer\n",
    "\n",
    "**Test**:  \n",
    "Two-sample t-test: indepedent samples  \n",
    "**Null hypothesis**:  \n",
    "$H_0$: White and Hispanic's weight do not differ.  \n",
    "$H_A$: White and Hispanic's weight do differ.\n",
    "\n",
    "**Assumptions**: \n",
    "1. **Randomization**: The data comes from a SRS sample, and the population is greater than 10 * 14765.\n",
    "2. **Independence**: The two samples are indepedent of each other (Whites do not affect Hispanics). The sample themselves are indepedent of each other (10 * 14765).\n",
    "3. **Normality**: The two samples of size n = 14765 > 30, so CLT should be sufficient to guarentee the sampling distribution as normal. The sample, by the histogram, is skewed slightly towards the right.\n",
    "\n",
    "**Data output**:  \n",
    "$t$ = -10.192  \n",
    "p-value: 3.146e-24 $\\approx$ 0\n",
    "\n",
    "**Conclusion**:\n",
    "The p-value of 3.146e-24 $\\approx$ 0 means that assuming White and Hispanic's weight do not differ, there is almost no chance of getting a sample that is as extreme or more than the sampled. Since this sample is so extreme, we have enough evidence to reject the null hypothesis and conclude that White and Hispanic's weight do differ."
   ]
  },
  {
   "cell_type": "markdown",
   "metadata": {},
   "source": [
    "## Question 3\n",
    "\n",
    "Is there a relationship between White's height and their BMI."
   ]
  },
  {
   "cell_type": "code",
   "execution_count": 45,
   "metadata": {},
   "outputs": [
    {
     "data": {
      "text/plain": [
       "<seaborn.axisgrid.JointGrid at 0x1a1faa9b70>"
      ]
     },
     "execution_count": 45,
     "metadata": {},
     "output_type": "execute_result"
    },
    {
     "data": {
      "image/png": "[encoded data removed]",
      "text/plain": [
       "<Figure size 432x432 with 3 Axes>"
      ]
     },
     "metadata": {
      "needs_background": "light"
     },
     "output_type": "display_data"
    }
   ],
   "source": [
    "wHeight = df.loc[df[\"RACEETH\"] == 5][\"Q6\"].dropna()\n",
    "\n",
    "wWeight = df.loc[df[\"RACEETH\"] == 5][\"Q7\"].dropna()\n",
    "sns.jointplot(wHeight, wWeight)"
   ]
  },
  {
   "cell_type": "code",
   "execution_count": 26,
   "metadata": {},
   "outputs": [
    {
     "data": {
      "text/plain": [
       "<matplotlib.axes._subplots.AxesSubplot at 0x1a21dc9b70>"
      ]
     },
     "execution_count": 26,
     "metadata": {},
     "output_type": "execute_result"
    },
    {
     "data": {
      "image/png": "[encoded data removed]",
      "text/plain": [
       "<Figure size 432x288 with 1 Axes>"
      ]
     },
     "metadata": {
      "needs_background": "light"
     },
     "output_type": "display_data"
    }
   ],
   "source": [
    "sns.residplot(wHeight, wWeight)"
   ]
  },
  {
   "cell_type": "code",
   "execution_count": 27,
   "metadata": {},
   "outputs": [
    {
     "data": {
      "text/plain": [
       "<matplotlib.axes._subplots.AxesSubplot at 0x1a21dfcb38>"
      ]
     },
     "execution_count": 27,
     "metadata": {},
     "output_type": "execute_result"
    },
    {
     "data": {
      "image/png": "[encoded data removed]",
      "text/plain": [
       "<Figure size 432x288 with 1 Axes>"
      ]
     },
     "metadata": {
      "needs_background": "light"
     },
     "output_type": "display_data"
    }
   ],
   "source": [
    "sns.regplot(wHeight, wWeight)"
   ]
  },
  {
   "cell_type": "code",
   "execution_count": 28,
   "metadata": {},
   "outputs": [
    {
     "data": {
      "text/html": [
       "<table class=\"simpletable\">\n",
       "<caption>OLS Regression Results</caption>\n",
       "<tr>\n",
       "  <th>Dep. Variable:</th>           <td>Q7</td>        <th>  R-squared:         </th> <td>   0.270</td> \n",
       "</tr>\n",
       "<tr>\n",
       "  <th>Model:</th>                   <td>OLS</td>       <th>  Adj. R-squared:    </th> <td>   0.269</td> \n",
       "</tr>\n",
       "<tr>\n",
       "  <th>Method:</th>             <td>Least Squares</td>  <th>  F-statistic:       </th> <td>   2145.</td> \n",
       "</tr>\n",
       "<tr>\n",
       "  <th>Date:</th>             <td>Wed, 05 Jun 2019</td> <th>  Prob (F-statistic):</th>  <td>  0.00</td>  \n",
       "</tr>\n",
       "<tr>\n",
       "  <th>Time:</th>                 <td>07:41:47</td>     <th>  Log-Likelihood:    </th> <td> -23859.</td> \n",
       "</tr>\n",
       "<tr>\n",
       "  <th>No. Observations:</th>      <td>  5815</td>      <th>  AIC:               </th> <td>4.772e+04</td>\n",
       "</tr>\n",
       "<tr>\n",
       "  <th>Df Residuals:</th>          <td>  5813</td>      <th>  BIC:               </th> <td>4.774e+04</td>\n",
       "</tr>\n",
       "<tr>\n",
       "  <th>Df Model:</th>              <td>     1</td>      <th>                     </th>     <td> </td>    \n",
       "</tr>\n",
       "<tr>\n",
       "  <th>Covariance Type:</th>      <td>nonrobust</td>    <th>                     </th>     <td> </td>    \n",
       "</tr>\n",
       "</table>\n",
       "<table class=\"simpletable\">\n",
       "<tr>\n",
       "    <td></td>       <th>coef</th>     <th>std err</th>      <th>t</th>      <th>P>|t|</th>  <th>[0.025</th>    <th>0.975]</th>  \n",
       "</tr>\n",
       "<tr>\n",
       "  <th>const</th> <td>  -83.2230</td> <td>    3.253</td> <td>  -25.581</td> <td> 0.000</td> <td>  -89.601</td> <td>  -76.845</td>\n",
       "</tr>\n",
       "<tr>\n",
       "  <th>Q6</th>    <td>   88.2856</td> <td>    1.906</td> <td>   46.310</td> <td> 0.000</td> <td>   84.548</td> <td>   92.023</td>\n",
       "</tr>\n",
       "</table>\n",
       "<table class=\"simpletable\">\n",
       "<tr>\n",
       "  <th>Omnibus:</th>       <td>2092.238</td> <th>  Durbin-Watson:     </th> <td>   1.899</td>\n",
       "</tr>\n",
       "<tr>\n",
       "  <th>Prob(Omnibus):</th>  <td> 0.000</td>  <th>  Jarque-Bera (JB):  </th> <td>9030.042</td>\n",
       "</tr>\n",
       "<tr>\n",
       "  <th>Skew:</th>           <td> 1.723</td>  <th>  Prob(JB):          </th> <td>    0.00</td>\n",
       "</tr>\n",
       "<tr>\n",
       "  <th>Kurtosis:</th>       <td> 8.039</td>  <th>  Cond. No.          </th> <td>    38.8</td>\n",
       "</tr>\n",
       "</table><br/><br/>Warnings:<br/>[1] Standard Errors assume that the covariance matrix of the errors is correctly specified."
      ],
      "text/plain": [
       "<class 'statsmodels.iolib.summary.Summary'>\n",
       "\"\"\"\n",
       "                            OLS Regression Results                            \n",
       "==============================================================================\n",
       "Dep. Variable:                     Q7   R-squared:                       0.270\n",
       "Model:                            OLS   Adj. R-squared:                  0.269\n",
       "Method:                 Least Squares   F-statistic:                     2145.\n",
       "Date:                Wed, 05 Jun 2019   Prob (F-statistic):               0.00\n",
       "Time:                        07:41:47   Log-Likelihood:                -23859.\n",
       "No. Observations:                5815   AIC:                         4.772e+04\n",
       "Df Residuals:                    5813   BIC:                         4.774e+04\n",
       "Df Model:                           1                                         \n",
       "Covariance Type:            nonrobust                                         \n",
       "==============================================================================\n",
       "                 coef    std err          t      P>|t|      [0.025      0.975]\n",
       "------------------------------------------------------------------------------\n",
       "const        -83.2230      3.253    -25.581      0.000     -89.601     -76.845\n",
       "Q6            88.2856      1.906     46.310      0.000      84.548      92.023\n",
       "==============================================================================\n",
       "Omnibus:                     2092.238   Durbin-Watson:                   1.899\n",
       "Prob(Omnibus):                  0.000   Jarque-Bera (JB):             9030.042\n",
       "Skew:                           1.723   Prob(JB):                         0.00\n",
       "Kurtosis:                       8.039   Cond. No.                         38.8\n",
       "==============================================================================\n",
       "\n",
       "Warnings:\n",
       "[1] Standard Errors assume that the covariance matrix of the errors is correctly specified.\n",
       "\"\"\""
      ]
     },
     "execution_count": 28,
     "metadata": {},
     "output_type": "execute_result"
    }
   ],
   "source": [
    "import numpy as np, statsmodels.api as sm\n",
    "\n",
    "model_X = sm.add_constant(wHeight)\n",
    "model_y = wWeight\n",
    "\n",
    "mod = sm.OLS(model_y, model_X)\n",
    "res = mod.fit()\n",
    "res.summary()"
   ]
  },
  {
   "cell_type": "code",
   "execution_count": 29,
   "metadata": {},
   "outputs": [
    {
     "data": {
      "text/html": [
       "<div>\n",
       "<style scoped>\n",
       "    .dataframe tbody tr th:only-of-type {\n",
       "        vertical-align: middle;\n",
       "    }\n",
       "\n",
       "    .dataframe tbody tr th {\n",
       "        vertical-align: top;\n",
       "    }\n",
       "\n",
       "    .dataframe thead th {\n",
       "        text-align: right;\n",
       "    }\n",
       "</style>\n",
       "<table border=\"1\" class=\"dataframe\">\n",
       "  <thead>\n",
       "    <tr style=\"text-align: right;\">\n",
       "      <th></th>\n",
       "      <th>0</th>\n",
       "      <th>1</th>\n",
       "    </tr>\n",
       "  </thead>\n",
       "  <tbody>\n",
       "    <tr>\n",
       "      <th>const</th>\n",
       "      <td>-89.600599</td>\n",
       "      <td>-76.845359</td>\n",
       "    </tr>\n",
       "    <tr>\n",
       "      <th>Q6</th>\n",
       "      <td>84.548338</td>\n",
       "      <td>92.022802</td>\n",
       "    </tr>\n",
       "  </tbody>\n",
       "</table>\n",
       "</div>"
      ],
      "text/plain": [
       "               0          1\n",
       "const -89.600599 -76.845359\n",
       "Q6     84.548338  92.022802"
      ]
     },
     "execution_count": 29,
     "metadata": {},
     "output_type": "execute_result"
    }
   ],
   "source": [
    "res.conf_int(.05)"
   ]
  },
  {
   "cell_type": "markdown",
   "metadata": {},
   "source": [
    "## Answer\n",
    "\n",
    "**Test**:  \n",
    "Regression Test  \n",
    "**Null hypothesis**:  \n",
    "$H_0$: There is no relationship between White's height and weight $\\beta = 0$  \n",
    "$H_A$: There is a relationship between White's height and weight $\\beta \\ne 0$\n",
    "\n",
    "**Assumptions**: \n",
    "1. **Linearity**: The plot of the graph suggests that the relationship is linear.\n",
    "2. **Randomization**: The data comes from a SRS sample, and the population is greater than 10 * 14765.\n",
    "3. **Equal Variances**: The two samples have a residual graph with about the same variance throughout different heights, however, the variances seems to be higher at the center than at the ends.\n",
    "4. **Normality**: The two samples of size n = 14765 > 30, so CLT should be sufficient to guarentee the sampling distribution as normal. Both samples, by the histograms, are slightly skewed to the right.\n",
    "\n",
    "**Data output**:  \n",
    "$\\beta = 84.548$\n",
    "\n",
    "p-value: 0.000\n",
    "\n",
    "confidence interval (95%) of $\\beta$: (84.548, 92.023)\n",
    "\n",
    "**Conclusion**:\n",
    "The p-value of 0.000 means that assuming that there is no relationship between White's height and weight, there is almost no chance of getting a sample that is as extreme or more than the sampled. Since this sample is so extreme, we have enough evidence to reject the null hypothesis and conclude that White's height and weight have a relationship.\n",
    "\n",
    "The relationship from the sample is: \n",
    "\n",
    "$\\hat{y} = -89.601 + 84.548x$  \n",
    "with a confidence interval (95%) of $\\beta$: (84.548, 92.023)\n",
    "\n",
    "If we sample repeatedly from the same distribution with a sample size of n = 14765, then we expect 95% of those samples to generate a 95% confidence interval that contains the true population $b$. The interval generated from this sample, with 95% confidence, says that the slope would be between 84.548 and 92.023.\n"
   ]
  },
  {
   "cell_type": "code",
   "execution_count": null,
   "metadata": {},
   "outputs": [],
   "source": []
  }
 ],
 "metadata": {
  "kernelspec": {
   "display_name": "Python 3",
   "language": "python",
   "name": "python3"
  },
  "language_info": {
   "codemirror_mode": {
    "name": "ipython",
    "version": 3
   },
   "file_extension": ".py",
   "mimetype": "text/x-python",
   "name": "python",
   "nbconvert_exporter": "python",
   "pygments_lexer": "ipython3",
   "version": "3.7.1"
  }
 },
 "nbformat": 4,
 "nbformat_minor": 2
}
