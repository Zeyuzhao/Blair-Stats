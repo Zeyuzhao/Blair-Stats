{
 "cells": [
  {
   "cell_type": "markdown",
   "metadata": {},
   "source": [
    "# KC 3: To Block or not to Block \n",
    "by Zach Zhao\n"
   ]
  },
  {
   "cell_type": "markdown",
   "metadata": {},
   "source": [
    "## Preliminary Analysis"
   ]
  },
  {
   "cell_type": "code",
   "execution_count": 3,
   "metadata": {},
   "outputs": [],
   "source": [
    "import pandas as pd\n",
    "import numpy as np\n",
    "from matplotlib import pyplot as plt\n",
    "from scipy.stats import zscore\n",
    "import seaborn as sns\n",
    "from sklearn.utils import shuffle\n",
    "import warnings\n",
    "warnings.filterwarnings('ignore')\n",
    "np.random.seed(1)"
   ]
  },
  {
   "cell_type": "code",
   "execution_count": 4,
   "metadata": {},
   "outputs": [],
   "source": [
    "df = pd.read_excel(\"KC3Data.xlsx\")"
   ]
  },
  {
   "cell_type": "code",
   "execution_count": 5,
   "metadata": {},
   "outputs": [
    {
     "data": {
      "text/plain": [
       "Inital Cholesterol    1000\n",
       "Gender                1000\n",
       "Unnamed: 2               0\n",
       "After A               1000\n",
       "After B               1000\n",
       "A improvement         1000\n",
       "B improvement         1000\n",
       "dtype: int64"
      ]
     },
     "execution_count": 5,
     "metadata": {},
     "output_type": "execute_result"
    }
   ],
   "source": [
    "df.count()"
   ]
  },
  {
   "cell_type": "markdown",
   "metadata": {},
   "source": [
    "## Task A\n",
    "Completely Randomized Experiment with no blocking"
   ]
  },
  {
   "cell_type": "code",
   "execution_count": 6,
   "metadata": {},
   "outputs": [],
   "source": [
    "df = shuffle(df)"
   ]
  },
  {
   "cell_type": "code",
   "execution_count": 7,
   "metadata": {},
   "outputs": [],
   "source": [
    "scoreA = df[:500][\"A improvement\"]\n",
    "scoreB = df[500:][\"B improvement\"]"
   ]
  },
  {
   "cell_type": "code",
   "execution_count": 8,
   "metadata": {},
   "outputs": [
    {
     "data": {
      "text/plain": [
       "<matplotlib.axes._subplots.AxesSubplot at 0x1a1b573390>"
      ]
     },
     "execution_count": 8,
     "metadata": {},
     "output_type": "execute_result"
    },
    {
     "data": {
      "image/png": "[encoded data removed]",
      "text/plain": [
       "<Figure size 432x288 with 1 Axes>"
      ]
     },
     "metadata": {
      "needs_background": "light"
     },
     "output_type": "display_data"
    }
   ],
   "source": [
    "sns.boxplot(scoreA)"
   ]
  },
  {
   "cell_type": "code",
   "execution_count": 9,
   "metadata": {},
   "outputs": [
    {
     "data": {
      "text/plain": [
       "<matplotlib.axes._subplots.AxesSubplot at 0x1a1b85acc0>"
      ]
     },
     "execution_count": 9,
     "metadata": {},
     "output_type": "execute_result"
    },
    {
     "data": {
      "image/png": "[encoded data removed]",
      "text/plain": [
       "<Figure size 432x288 with 1 Axes>"
      ]
     },
     "metadata": {
      "needs_background": "light"
     },
     "output_type": "display_data"
    }
   ],
   "source": [
    "sns.boxplot(scoreB)"
   ]
  },
  {
   "cell_type": "code",
   "execution_count": 10,
   "metadata": {},
   "outputs": [
    {
     "data": {
      "image/png": "[encoded data removed]",
      "text/plain": [
       "<Figure size 432x288 with 1 Axes>"
      ]
     },
     "metadata": {
      "needs_background": "light"
     },
     "output_type": "display_data"
    }
   ],
   "source": [
    "sns.distplot(scoreA)\n",
    "sns.distplot(scoreB)\n",
    "plt.show()"
   ]
  },
  {
   "cell_type": "code",
   "execution_count": 11,
   "metadata": {},
   "outputs": [
    {
     "data": {
      "text/plain": [
       "count    500.000000\n",
       "mean       7.608887\n",
       "std        4.100429\n",
       "min       -1.400557\n",
       "25%        4.714103\n",
       "50%        6.941882\n",
       "75%       10.638726\n",
       "max       21.867856\n",
       "Name: A improvement, dtype: float64"
      ]
     },
     "execution_count": 11,
     "metadata": {},
     "output_type": "execute_result"
    }
   ],
   "source": [
    "scoreA.describe()"
   ]
  },
  {
   "cell_type": "code",
   "execution_count": 12,
   "metadata": {},
   "outputs": [
    {
     "data": {
      "text/plain": [
       "count    500.000000\n",
       "mean       7.312474\n",
       "std        4.334888\n",
       "min       -2.605115\n",
       "25%        4.063799\n",
       "50%        6.729941\n",
       "75%       10.033866\n",
       "max       20.535539\n",
       "Name: B improvement, dtype: float64"
      ]
     },
     "execution_count": 12,
     "metadata": {},
     "output_type": "execute_result"
    }
   ],
   "source": [
    "scoreB.describe()"
   ]
  },
  {
   "cell_type": "markdown",
   "metadata": {},
   "source": [
    "### Analysis of Completely Random Experiment\n",
    "The distribution of the results of Drug A and B have a similar shape. Both dataset are unimodal, which means they have only one peak. Also, they are both relatively symmetric. Both datasets contain a few outliers, but because they conform to a relatively normal distribution, we are able to use the mean and variance. \n",
    "\n",
    "Using the mean, the typical Drug A has a improvement score of 7.61, compared to Drug B's 7.31. This is a relatively small difference, but that would put Drug B ahead of Drug A.\n",
    "\n",
    "Drug A and Drug B have slightly different spreads. Using the standard deviation, we see that approx. 68% of the Drug A scores lie between +/-4.100 of its mean. On the other hand, approx. 68% of Drug B lie between +/- 4.335 of its mean. Although Drug B has a slightly larger spread than Drug A, the differences, shown through standard deviation, is quite small. \n",
    "\n",
    "Accounting for the different shapes and spreads of the datasets, Drug B has a miniscule advantage over Drug A. The typical improvement score of Drug B, 7.61, is greater than Drug A's 7.31.\n"
   ]
  },
  {
   "cell_type": "markdown",
   "metadata": {},
   "source": [
    "## Task B\n",
    "Experiment with the Blocking of Gender"
   ]
  },
  {
   "cell_type": "code",
   "execution_count": 13,
   "metadata": {},
   "outputs": [],
   "source": [
    "males = shuffle(df[df[\"Gender\"] == \"Male\"])\n",
    "females = shuffle(df[df[\"Gender\"] == \"Female\"])"
   ]
  },
  {
   "cell_type": "code",
   "execution_count": 14,
   "metadata": {},
   "outputs": [],
   "source": [
    "maleA = males[:250][\"A improvement\"]\n",
    "maleB = males[250:][\"B improvement\"]\n",
    "femaleA = females[:250][\"A improvement\"]\n",
    "femaleB = females[250:][\"B improvement\"]"
   ]
  },
  {
   "cell_type": "markdown",
   "metadata": {},
   "source": [
    "### Analyzing the male level"
   ]
  },
  {
   "cell_type": "code",
   "execution_count": 15,
   "metadata": {},
   "outputs": [
    {
     "data": {
      "image/png": "[encoded data removed]",
      "text/plain": [
       "<Figure size 432x288 with 1 Axes>"
      ]
     },
     "metadata": {
      "needs_background": "light"
     },
     "output_type": "display_data"
    }
   ],
   "source": [
    "sns.distplot(maleA)\n",
    "sns.distplot(maleB)\n",
    "plt.show()"
   ]
  },
  {
   "cell_type": "code",
   "execution_count": 16,
   "metadata": {},
   "outputs": [
    {
     "data": {
      "text/plain": [
       "<matplotlib.axes._subplots.AxesSubplot at 0x1a1ba2a6d8>"
      ]
     },
     "execution_count": 16,
     "metadata": {},
     "output_type": "execute_result"
    },
    {
     "data": {
      "image/png": "[encoded data removed]",
      "text/plain": [
       "<Figure size 432x288 with 1 Axes>"
      ]
     },
     "metadata": {
      "needs_background": "light"
     },
     "output_type": "display_data"
    }
   ],
   "source": [
    "sns.boxplot(maleA)"
   ]
  },
  {
   "cell_type": "code",
   "execution_count": 17,
   "metadata": {},
   "outputs": [
    {
     "data": {
      "text/plain": [
       "<matplotlib.axes._subplots.AxesSubplot at 0x1a1bbafdd8>"
      ]
     },
     "execution_count": 17,
     "metadata": {},
     "output_type": "execute_result"
    },
    {
     "data": {
      "image/png": "[encoded data removed]",
      "text/plain": [
       "<Figure size 432x288 with 1 Axes>"
      ]
     },
     "metadata": {
      "needs_background": "light"
     },
     "output_type": "display_data"
    }
   ],
   "source": [
    "sns.boxplot(maleB)"
   ]
  },
  {
   "cell_type": "code",
   "execution_count": 18,
   "metadata": {},
   "outputs": [
    {
     "data": {
      "text/plain": [
       "count    250.000000\n",
       "mean      10.036075\n",
       "std        4.007210\n",
       "min       -1.624924\n",
       "25%        7.504711\n",
       "50%       10.031988\n",
       "75%       12.745560\n",
       "max       19.743138\n",
       "Name: A improvement, dtype: float64"
      ]
     },
     "execution_count": 18,
     "metadata": {},
     "output_type": "execute_result"
    }
   ],
   "source": [
    "maleA.describe()"
   ]
  },
  {
   "cell_type": "code",
   "execution_count": 19,
   "metadata": {},
   "outputs": [
    {
     "data": {
      "text/plain": [
       "count    250.000000\n",
       "mean       4.747605\n",
       "std        2.608182\n",
       "min       -3.749842\n",
       "25%        3.043603\n",
       "50%        4.792148\n",
       "75%        6.668541\n",
       "max       11.350467\n",
       "Name: B improvement, dtype: float64"
      ]
     },
     "execution_count": 19,
     "metadata": {},
     "output_type": "execute_result"
    }
   ],
   "source": [
    "maleB.describe()"
   ]
  },
  {
   "cell_type": "markdown",
   "metadata": {},
   "source": [
    "### Analysis of male level\n",
    "\n",
    "The improvement scores of drug A and drug B in the male level have a similar shape. Both sets are unimodal, which means they have a single peak. Additionally, the sets are symmetric, and not skewed towards either side. Although both datasets have a few outliers, they both conform to the normal distribution, so using the mean and the variance to measure center and spread would be valid.\n",
    "\n",
    "The typical value of drug A, measured by the mean, is 10.035. On the other hand, drug B has a typical value of 4.75. Drug A has a signficant lead over drug B.\n",
    "\n",
    "The spread of the two datasets are quite different. Approximately 70% of the scores in drug A (1 standard deviation) lie between +/- 4.00 of its mean. However, about 68% of the scores in drug B lie between +/- 2.61 of its mean. As shown by the standard deviation, Drug A has a wider spread than Drug B.\n",
    "\n",
    "While the two drugs have different spreads, there is a significant difference in the means of the two drugs, with Drug A having a much greater improvement than Drug B. Therefore, according to the data, Drug A outperforms Drug B.\n"
   ]
  },
  {
   "cell_type": "markdown",
   "metadata": {},
   "source": [
    "### Analyzing the female level"
   ]
  },
  {
   "cell_type": "code",
   "execution_count": 20,
   "metadata": {},
   "outputs": [
    {
     "data": {
      "image/png": "[encoded data removed]",
      "text/plain": [
       "<Figure size 432x288 with 1 Axes>"
      ]
     },
     "metadata": {
      "needs_background": "light"
     },
     "output_type": "display_data"
    }
   ],
   "source": [
    "sns.distplot(femaleA)\n",
    "sns.distplot(femaleB)\n",
    "plt.show()"
   ]
  },
  {
   "cell_type": "code",
   "execution_count": 21,
   "metadata": {},
   "outputs": [
    {
     "data": {
      "text/plain": [
       "count    250.000000\n",
       "mean       4.974542\n",
       "std        2.427063\n",
       "min       -1.400557\n",
       "25%        3.227474\n",
       "50%        4.970619\n",
       "75%        6.677887\n",
       "max       11.462345\n",
       "Name: A improvement, dtype: float64"
      ]
     },
     "execution_count": 21,
     "metadata": {},
     "output_type": "execute_result"
    }
   ],
   "source": [
    "femaleA.describe()"
   ]
  },
  {
   "cell_type": "code",
   "execution_count": 22,
   "metadata": {},
   "outputs": [
    {
     "data": {
      "text/plain": [
       "count    250.000000\n",
       "mean       9.903288\n",
       "std        4.004185\n",
       "min        0.955939\n",
       "25%        6.927932\n",
       "50%        9.738362\n",
       "75%       12.439836\n",
       "max       20.397714\n",
       "Name: B improvement, dtype: float64"
      ]
     },
     "execution_count": 22,
     "metadata": {},
     "output_type": "execute_result"
    }
   ],
   "source": [
    "femaleB.describe()"
   ]
  },
  {
   "cell_type": "code",
   "execution_count": 25,
   "metadata": {},
   "outputs": [
    {
     "data": {
      "text/plain": [
       "<matplotlib.axes._subplots.AxesSubplot at 0x1a1bb40400>"
      ]
     },
     "execution_count": 25,
     "metadata": {},
     "output_type": "execute_result"
    },
    {
     "data": {
      "image/png": "[encoded data removed]",
      "text/plain": [
       "<Figure size 432x288 with 1 Axes>"
      ]
     },
     "metadata": {
      "needs_background": "light"
     },
     "output_type": "display_data"
    }
   ],
   "source": [
    "sns.boxplot(femaleA)"
   ]
  },
  {
   "cell_type": "code",
   "execution_count": 24,
   "metadata": {},
   "outputs": [
    {
     "data": {
      "text/plain": [
       "<matplotlib.axes._subplots.AxesSubplot at 0x1a1be81390>"
      ]
     },
     "execution_count": 24,
     "metadata": {},
     "output_type": "execute_result"
    },
    {
     "data": {
      "image/png": "[encoded data removed]",
      "text/plain": [
       "<Figure size 432x288 with 1 Axes>"
      ]
     },
     "metadata": {
      "needs_background": "light"
     },
     "output_type": "display_data"
    }
   ],
   "source": [
    "sns.boxplot(femaleB)"
   ]
  },
  {
   "cell_type": "markdown",
   "metadata": {},
   "source": [
    "### Analysis of female level\n",
    "\n",
    "The improvement scores of drug A and drug B in the female level have a similar shape. Both sets are unimodal, which means they have a single peak. Additionally, the sets are symmetric, and not skewed towards either side. Drug B has no outliers, while Drug A has three. Although Drug A has a few outliers, they both conform to the normal distribution, so using the mean and the variance to measure center and spread would be valid.\n",
    "\n",
    "The typical value of drug A, measured by the mean, is 4.97. On the other hand, drug B has a typical value of 9.90. Drug B has a signficant lead over drug A.\n",
    "\n",
    "The spread of the two datasets are quite different. Approximately 70% of the scores in drug A (1 standard deviation) lie between +/- 2.42 of its mean. However, around 70% of the scores in drug B lie between +/- 4.00 of its mean. As shown by the standard deviation, Drug B has a wider spread than Drug A.\n",
    "\n",
    "While the two drugs have different spreads, there is a significant difference in the means of the two drugs. According to the data, the typical Drug B value has a signficant lead over Drug A, leading us to conclude that Drug B outperforms Drug A."
   ]
  }
 ],
 "metadata": {
  "kernelspec": {
   "display_name": "Python 3",
   "language": "python",
   "name": "python3"
  },
  "language_info": {
   "codemirror_mode": {
    "name": "ipython",
    "version": 3
   },
   "file_extension": ".py",
   "mimetype": "text/x-python",
   "name": "python",
   "nbconvert_exporter": "python",
   "pygments_lexer": "ipython3",
   "version": "3.7.1"
  }
 },
 "nbformat": 4,
 "nbformat_minor": 2
}
