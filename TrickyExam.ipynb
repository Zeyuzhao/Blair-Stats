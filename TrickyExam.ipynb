{
 "cells": [
  {
   "cell_type": "markdown",
   "metadata": {},
   "source": [
    "# Tricky Exam\n",
    "\n",
    "Problem Statement:\n",
    "\n",
    "Your are trying to do the best on a upcoming exam that has N questions. For each question, you have a probability $p$ of answering it correctly. If the answer is correct, you get $+a$ points, and if you get it wrong, you get $-b$ points. If you do not answer, you get 0 points. The professor is nice and says that the minimum possible score is 0 (if you get an negative score, you get an 0). \n",
    "\n",
    "How many of the N questions should you answer to maximize the expected value of your test?\n",
    "\n",
    "* $N$ question exam  \n",
    "* Probability $p$ of answering correctly  \n",
    "* $+a$ for correct  \n",
    "* $-b$ for incorrect  \n",
    "* $0$ for not answered  \n",
    "* assume a * p - b * (1-p) < 0\n"
   ]
  },
  {
   "cell_type": "code",
   "execution_count": 16,
   "metadata": {},
   "outputs": [],
   "source": [
    "from scipy.special import comb\n",
    "import seaborn as sns\n",
    "import math\n",
    "import matplotlib.pyplot as plt"
   ]
  },
  {
   "cell_type": "code",
   "execution_count": 23,
   "metadata": {},
   "outputs": [],
   "source": [
    "# Parameters\n",
    "N = 20\n",
    "p = 0.5\n",
    "a = 1\n",
    "b = 1\n"
   ]
  },
  {
   "cell_type": "code",
   "execution_count": 26,
   "metadata": {},
   "outputs": [],
   "source": [
    "\n",
    "def expectedScore(x, p, a, b):\n",
    "    val = 0\n",
    "    # Number of correct answers to get a score of 0\n",
    "    breakEven = math.ceil((b / (a + b)) * x)\n",
    "    for correct in range(breakEven, x + 1):\n",
    "        # Score getting on the test\n",
    "        score = (a * correct - b * (x - correct))\n",
    "        # Weighted by the probability\n",
    "        val += score * comb(x, correct) * math.pow(p, correct) * math.pow((1 - p), x - correct) \n",
    "    return val\n",
    "\n",
    "expScoreList = []\n",
    "\n",
    "for i in range(N):\n",
    "    expScoreList.append(expectedScore(i, p, a, b))\n",
    "\n"
   ]
  },
  {
   "cell_type": "code",
   "execution_count": 25,
   "metadata": {},
   "outputs": [
    {
     "data": {
      "text/plain": [
       "<BarContainer object of 20 artists>"
      ]
     },
     "execution_count": 25,
     "metadata": {},
     "output_type": "execute_result"
    },
    {
     "data": {
      "image/png": "[encoded data removed]",
      "text/plain": [
       "<Figure size 432x288 with 1 Axes>"
      ]
     },
     "metadata": {
      "needs_background": "light"
     },
     "output_type": "display_data"
    }
   ],
   "source": [
    "plt.bar(x = range(len(expScoreList)), height = expScoreList)"
   ]
  },
  {
   "cell_type": "code",
   "execution_count": null,
   "metadata": {},
   "outputs": [],
   "source": []
  }
 ],
 "metadata": {
  "kernelspec": {
   "display_name": "Python 3",
   "language": "python",
   "name": "python3"
  },
  "language_info": {
   "codemirror_mode": {
    "name": "ipython",
    "version": 3
   },
   "file_extension": ".py",
   "mimetype": "text/x-python",
   "name": "python",
   "nbconvert_exporter": "python",
   "pygments_lexer": "ipython3",
   "version": "3.7.1"
  }
 },
 "nbformat": 4,
 "nbformat_minor": 2
}
