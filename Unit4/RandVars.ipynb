{
 "cells": [
  {
   "cell_type": "code",
   "execution_count": 1,
   "metadata": {},
   "outputs": [],
   "source": [
    "import numpy as np\n"
   ]
  },
  {
   "cell_type": "code",
   "execution_count": 15,
   "metadata": {},
   "outputs": [],
   "source": [
    "y = np.array([-2, 5, 0, 2])\n",
    "py = np.array([.16, .3, .47, .07])\n",
    "\n",
    "x = np.array([-1, 3, 5, 6])\n",
    "px = np.array([.41, .23, .18, .18])"
   ]
  },
  {
   "cell_type": "code",
   "execution_count": 41,
   "metadata": {},
   "outputs": [
    {
     "data": {
      "text/plain": [
       "(2.2600000000000002, 1.3199999999999998)"
      ]
     },
     "execution_count": 41,
     "metadata": {},
     "output_type": "execute_result"
    }
   ],
   "source": [
    "meanX = np.dot(x, px)\n",
    "\n",
    "meanY = np.dot(y, py)\n",
    "meanX, meanY"
   ]
  },
  {
   "cell_type": "code",
   "execution_count": null,
   "metadata": {},
   "outputs": [],
   "source": []
  },
  {
   "cell_type": "code",
   "execution_count": 19,
   "metadata": {},
   "outputs": [],
   "source": [
    "varX = np.dot((x - meanX) ** 2, px)\n",
    "varY = np.dot((y - meanY) ** 2, py)"
   ]
  },
  {
   "cell_type": "code",
   "execution_count": 20,
   "metadata": {},
   "outputs": [
    {
     "data": {
      "text/plain": [
       "(8.3524, 6.677599999999999)"
      ]
     },
     "execution_count": 20,
     "metadata": {},
     "output_type": "execute_result"
    }
   ],
   "source": [
    "varX, varY"
   ]
  },
  {
   "cell_type": "code",
   "execution_count": 49,
   "metadata": {},
   "outputs": [
    {
     "data": {
      "text/plain": [
       "[-3, 4, -1, 1, 1, 8, 3, 5, 3, 10, 5, 7, 4, 11, 6, 8]"
      ]
     },
     "execution_count": 49,
     "metadata": {},
     "output_type": "execute_result"
    }
   ],
   "source": [
    "a = []\n",
    "pa = []\n",
    "for i in range(len(x)):\n",
    "    for j in range(len(y)):\n",
    "        a.append(x[i] + y[j])\n",
    "        pa.append(px[i] * py[j])\n",
    "a"
   ]
  },
  {
   "cell_type": "code",
   "execution_count": 53,
   "metadata": {},
   "outputs": [
    {
     "data": {
      "text/plain": [
       "1.0000000000000002"
      ]
     },
     "execution_count": 53,
     "metadata": {},
     "output_type": "execute_result"
    }
   ],
   "source": [
    "sum(pa)"
   ]
  },
  {
   "cell_type": "code",
   "execution_count": 51,
   "metadata": {},
   "outputs": [
    {
     "data": {
      "text/plain": [
       "[0.06559999999999999,\n",
       " 0.12299999999999998,\n",
       " 0.19269999999999998,\n",
       " 0.0287,\n",
       " 0.0368,\n",
       " 0.069,\n",
       " 0.1081,\n",
       " 0.016100000000000003,\n",
       " 0.0288,\n",
       " 0.054,\n",
       " 0.0846,\n",
       " 0.0126,\n",
       " 0.0288,\n",
       " 0.054,\n",
       " 0.0846,\n",
       " 0.0126]"
      ]
     },
     "execution_count": 51,
     "metadata": {},
     "output_type": "execute_result"
    }
   ],
   "source": [
    "pa"
   ]
  },
  {
   "cell_type": "code",
   "execution_count": 58,
   "metadata": {},
   "outputs": [
    {
     "data": {
      "text/plain": [
       "([-3, 4, -1, 1, 8, 3, 5, 3, 10, 5, 7, 4, 11, 6],\n",
       " [0.06559999999999999,\n",
       "  0.12299999999999998,\n",
       "  0.19269999999999998,\n",
       "  0.0655,\n",
       "  0.069,\n",
       "  0.1081,\n",
       "  0.016100000000000003,\n",
       "  0.0288,\n",
       "  0.054,\n",
       "  0.0846,\n",
       "  0.0126,\n",
       "  0.0288,\n",
       "  0.054,\n",
       "  0.0846])"
      ]
     },
     "execution_count": 58,
     "metadata": {},
     "output_type": "execute_result"
    }
   ],
   "source": [
    "def compress(var, pvar):\n",
    "    tempVal = []\n",
    "    tempP = []\n",
    "    tempSum = 0\n",
    "    for i in range(0, len(var) - 1):\n",
    "        tempSum += pvar[i]\n",
    "        if (var[i] == var[i + 1]):\n",
    "            continue\n",
    "        else:\n",
    "            tempVal.append(var[i])\n",
    "            tempP.append(tempSum)\n",
    "            tempSum = 0\n",
    "    return tempVal, tempP\n",
    "compress(a, pa)\n",
    "            "
   ]
  },
  {
   "cell_type": "code",
   "execution_count": 48,
   "metadata": {},
   "outputs": [
    {
     "data": {
      "text/plain": [
       "3.5799999999999996"
      ]
     },
     "execution_count": 48,
     "metadata": {},
     "output_type": "execute_result"
    }
   ],
   "source": [
    "meanA = np.dot(a, pa)\n",
    "meanA"
   ]
  },
  {
   "cell_type": "code",
   "execution_count": 45,
   "metadata": {},
   "outputs": [
    {
     "data": {
      "text/plain": [
       "15.029999999999998"
      ]
     },
     "execution_count": 45,
     "metadata": {},
     "output_type": "execute_result"
    }
   ],
   "source": [
    "varA = np.dot((a - meanA)**2, pa)\n",
    "varA"
   ]
  },
  {
   "cell_type": "code",
   "execution_count": 46,
   "metadata": {},
   "outputs": [
    {
     "data": {
      "text/plain": [
       "15.029999999999998"
      ]
     },
     "execution_count": 46,
     "metadata": {},
     "output_type": "execute_result"
    }
   ],
   "source": [
    "varX + varY"
   ]
  },
  {
   "cell_type": "code",
   "execution_count": 60,
   "metadata": {},
   "outputs": [
    {
     "data": {
      "text/plain": [
       "1.7"
      ]
     },
     "execution_count": 60,
     "metadata": {},
     "output_type": "execute_result"
    }
   ],
   "source": [
    "np.sqrt(.8 ** 2 + 1.5 ** 2)"
   ]
  },
  {
   "cell_type": "code",
   "execution_count": 61,
   "metadata": {},
   "outputs": [],
   "source": [
    "x = [0,1,2]\n",
    "px = [0.5, 0.3, .2]\n",
    "y = [-2, 4, 7]\n",
    "py = [.5, .3, .2]"
   ]
  },
  {
   "cell_type": "code",
   "execution_count": 62,
   "metadata": {},
   "outputs": [
    {
     "data": {
      "text/plain": [
       "0.7"
      ]
     },
     "execution_count": 62,
     "metadata": {},
     "output_type": "execute_result"
    }
   ],
   "source": [
    "np.dot(x, px)"
   ]
  },
  {
   "cell_type": "code",
   "execution_count": 63,
   "metadata": {},
   "outputs": [
    {
     "data": {
      "text/plain": [
       "1.6"
      ]
     },
     "execution_count": 63,
     "metadata": {},
     "output_type": "execute_result"
    }
   ],
   "source": [
    "np.dot(y, py)"
   ]
  },
  {
   "cell_type": "code",
   "execution_count": 75,
   "metadata": {},
   "outputs": [],
   "source": [
    "def weightedStd(t, pt):\n",
    "    meanT = np.dot(t, pt)\n",
    "    varT = np.dot((t - meanT) ** 2, pt)\n",
    "    return np.sqrt(varT)\n",
    "\n",
    "first = weightedStd(x, px)\n"
   ]
  },
  {
   "cell_type": "code",
   "execution_count": 76,
   "metadata": {},
   "outputs": [],
   "source": [
    "second = weightedStd(y, py)"
   ]
  },
  {
   "cell_type": "code",
   "execution_count": 77,
   "metadata": {},
   "outputs": [
    {
     "data": {
      "text/plain": [
       "3.8275318418009276"
      ]
     },
     "execution_count": 77,
     "metadata": {},
     "output_type": "execute_result"
    }
   ],
   "source": [
    "np.sqrt(first**2 + second**2)"
   ]
  },
  {
   "cell_type": "code",
   "execution_count": null,
   "metadata": {},
   "outputs": [],
   "source": []
  }
 ],
 "metadata": {
  "kernelspec": {
   "display_name": "Python 3",
   "language": "python",
   "name": "python3"
  },
  "language_info": {
   "codemirror_mode": {
    "name": "ipython",
    "version": 3
   },
   "file_extension": ".py",
   "mimetype": "text/x-python",
   "name": "python",
   "nbconvert_exporter": "python",
   "pygments_lexer": "ipython3",
   "version": "3.7.1"
  }
 },
 "nbformat": 4,
 "nbformat_minor": 2
}
